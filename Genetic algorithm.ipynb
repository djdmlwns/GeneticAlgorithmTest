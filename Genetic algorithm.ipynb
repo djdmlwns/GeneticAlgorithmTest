{
 "cells": [
  {
   "cell_type": "code",
   "execution_count": 231,
   "metadata": {},
   "outputs": [],
   "source": [
    "import numpy as np\n",
    "import pandas as pd"
   ]
  },
  {
   "cell_type": "code",
   "execution_count": 232,
   "metadata": {},
   "outputs": [],
   "source": [
    "import random"
   ]
  },
  {
   "cell_type": "code",
   "execution_count": 233,
   "metadata": {},
   "outputs": [],
   "source": [
    "def generate_population(size, x_boundaries, y_boundaries):\n",
    "    lower_x_boundary, upper_x_boundary = x_boundaries\n",
    "    lower_y_boundary, upper_y_boundary = y_boundaries\n",
    "    \n",
    "    population = []\n",
    "    for i in range(size):\n",
    "        individual = {\n",
    "            \"x\" : random.uniform(lower_x_boundary, upper_x_boundary),\n",
    "            \"y\" : random.uniform(lower_y_boundary, upper_y_boundary),\n",
    "        }\n",
    "        population.append(individual)\n",
    "        \n",
    "    return population"
   ]
  },
  {
   "cell_type": "code",
   "execution_count": 426,
   "metadata": {},
   "outputs": [],
   "source": [
    "import math\n",
    "\n",
    "def apply_function(individual, verbose = False):\n",
    "    global kkt\n",
    "    x = individual[\"x\"]\n",
    "    y = individual[\"y\"]\n",
    "    function_value = 20 + x ** 2 + y **2 - 10 * (math.cos(2 * math.pi * x) + math.cos(2 * math.pi * y))\n",
    "    \n",
    "    if kkt:\n",
    "        kkt1 = x + 10 * math.pi * math.sin(2 * math.pi * x)\n",
    "        kkt2 = y + 10 * math.pi * math.sin(2 * math.pi * y)\n",
    "        penalty = abs(kkt1) + abs(kkt2)\n",
    "        penalty_coef = 0.1\n",
    "        return function_value + penalty_coef * (penalty if penalty > 1e-3 else 0)\n",
    "    \n",
    "    else:\n",
    "        return function_value\n",
    "    \n",
    "    if verbose:\n",
    "        if kkt:\n",
    "            print('penalty is {}'.format(penalty))    \n",
    "        print('function value is {}'.format(function_value))\n",
    "    \n",
    "#    print(20 + x ** 2 + y **2 - 10 * (math.cos(2 * math.pi * x) + math.cos(2 * math.pi * y)))"
   ]
  },
  {
   "cell_type": "code",
   "execution_count": 235,
   "metadata": {},
   "outputs": [],
   "source": [
    "def sort_population_by_fitness(population):\n",
    "    return sorted(population, key = apply_function)"
   ]
  },
  {
   "cell_type": "code",
   "execution_count": 236,
   "metadata": {},
   "outputs": [],
   "source": [
    "def crossover(individual_a, individual_b):\n",
    "    xa = individual_a[\"x\"]\n",
    "    ya = individual_a[\"y\"]\n",
    "    \n",
    "    xb = individual_b[\"x\"]\n",
    "    yb = individual_b[\"y\"]\n",
    "    \n",
    "    return {\"x\": (xa+xb)/2, \"y\": (ya+yb)/2}\n",
    "def mutate(individual):\n",
    "    global current_generation\n",
    "    next_x = individual[\"x\"] + random.uniform(-0.5, 0.5)\n",
    "    next_y = individual[\"y\"] + random.uniform(-0.5, 0.5)\n",
    "    \n",
    "    lower_boundary, upper_boundary = (-5.12, 5.12)\n",
    "    \n",
    "    next_x = min(max(next_x, lower_boundary), upper_boundary)\n",
    "    next_y = min(max(next_y, lower_boundary), upper_boundary)\n",
    "    \n",
    "    return {\"x\": next_x, \"y\": next_y}"
   ]
  },
  {
   "cell_type": "code",
   "execution_count": 237,
   "metadata": {},
   "outputs": [],
   "source": [
    "def make_next_generation(previous_population, elite=False, mutation_p = 0.1):\n",
    "    next_generation = []\n",
    "    sorted_by_fitness_population = sort_population_by_fitness(previous_population)\n",
    "    population_size = len(previous_population)\n",
    "    fitness_sum = sum(apply_function(individual) for individual in previous_population)\n",
    "    \n",
    "    if elite:\n",
    "        elite_size = int(population_size * 0.05) \n",
    "        for j in range(elite_size):\n",
    "            next_generation.append(sorted_by_fitness_population[j])        \n",
    "    \n",
    "    for i in range(population_size):\n",
    "        first_choice = choice_by_roulette(sorted_by_fitness_population)\n",
    "        second_choice = choice_by_roulette(sorted_by_fitness_population)\n",
    "        \n",
    "        individual = crossover(first_choice, second_choice)\n",
    "        \n",
    "        mu = random.random()\n",
    "        if mu < mutation_p:\n",
    "            individual = mutate(individual)\n",
    "            \n",
    "        next_generation.append(individual)\n",
    "        if len(next_generation) == population_size:\n",
    "            break\n",
    "            \n",
    "    return next_generation    "
   ]
  },
  {
   "cell_type": "code",
   "execution_count": 238,
   "metadata": {},
   "outputs": [],
   "source": [
    "def choice_by_roulette(sorted_population):\n",
    "#    offset = 0\n",
    "#    normalized_fitness_sum = fitness_sum\n",
    "    \n",
    "#    lowest_fitness = apply_function(sorted_population[0])\n",
    "#    if lowest_fitness < 0:\n",
    "#        offset = -lowest_fitness\n",
    "#        normalized_fitness_sum += offset * len(sorted_population)\n",
    "    conversion = lambda x: math.exp(-x/100)\n",
    "    logistic_value = list(conversion(apply_function(i)) for i in sorted_population)\n",
    "    logistic_sum = sum(i for i in logistic_value)\n",
    "#    print(logistic_sum)\n",
    "    draw = random.uniform(0,1)\n",
    "    accumulated = 0\n",
    "    for individual in sorted_population:\n",
    "        fitness = conversion(apply_function(individual))\n",
    "        probability = fitness / logistic_sum\n",
    "        accumulated += probability\n",
    "        \n",
    "        if draw <= accumulated:\n",
    "#            print('probability is {}'.format(probability))\n",
    "            return individual\n",
    "        "
   ]
  },
  {
   "cell_type": "code",
   "execution_count": 110,
   "metadata": {},
   "outputs": [
    {
     "name": "stdout",
     "output_type": "stream",
     "text": [
      "[0.44803328843252643, 1.4399643628213035, 2.1384225860375636, 0.1659266131462971, 0.09899156734736536, 0.19478232234411053, 0.785174221643075, 1.3736311866809245, 0.6638076463026756, 0.4040842964016633, 0.01746792341847936, 0.46237806472055, 0.2914761187680348, 0.09842100033229073, 1.8600264920162246, 0.18886181148869952, 2.323020862809699, 0.41374139569909474, 1.1230981017639436, 0.3950355406814232, 0.03494005715648285, 0.6339078053049114, 1.0734487686567924, 1.2676020652685267, 0.44959808672455637, 0.7877045923052783, 0.10222229381208692, 2.9298976699192814, 0.4391816030187705, 1.191377985283765]\n"
     ]
    }
   ],
   "source": [
    "print(list(apply_function(indiv) for indiv in population))"
   ]
  },
  {
   "cell_type": "code",
   "execution_count": 121,
   "metadata": {},
   "outputs": [
    {
     "name": "stdout",
     "output_type": "stream",
     "text": [
      "[0.01746792341847936, 0.03494005715648285, 0.09842100033229073, 0.09899156734736536, 0.10222229381208692, 0.1659266131462971, 0.18886181148869952, 0.19478232234411053, 0.2914761187680348, 0.3950355406814232, 0.4040842964016633, 0.41374139569909474, 0.4391816030187705, 0.44803328843252643, 0.44959808672455637, 0.46237806472055, 0.6339078053049114, 0.6638076463026756, 0.785174221643075, 0.7877045923052783, 1.0734487686567924, 1.1230981017639436, 1.191377985283765, 1.2676020652685267, 1.3736311866809245, 1.4399643628213035, 1.8600264920162246, 2.1384225860375636, 2.323020862809699, 2.9298976699192814]\n"
     ]
    }
   ],
   "source": [
    "print(list(apply_function(i) for i in sort_population_by_fitness(population)))"
   ]
  },
  {
   "cell_type": "code",
   "execution_count": 126,
   "metadata": {},
   "outputs": [
    {
     "name": "stdout",
     "output_type": "stream",
     "text": [
      "probability is 0.0398640820649788\n"
     ]
    },
    {
     "data": {
      "text/plain": [
       "{'x': 0.04581061223478757, 'y': 0.0011124026974496937}"
      ]
     },
     "execution_count": 126,
     "metadata": {},
     "output_type": "execute_result"
    }
   ],
   "source": [
    "choice_by_roulette(sort_population_by_fitness(population))"
   ]
  },
  {
   "cell_type": "code",
   "execution_count": 239,
   "metadata": {},
   "outputs": [],
   "source": [
    "import matplotlib.pyplot as plt"
   ]
  },
  {
   "cell_type": "code",
   "execution_count": 242,
   "metadata": {},
   "outputs": [
    {
     "name": "stdout",
     "output_type": "stream",
     "text": [
      "penalty is 0.1918383263990171\n",
      "function value is 1.990087713700337\n"
     ]
    },
    {
     "data": {
      "text/plain": [
       "2.181926040099354"
      ]
     },
     "execution_count": 242,
     "metadata": {},
     "output_type": "execute_result"
    }
   ],
   "source": [
    "apply_function(global_best_individual, verbose = True)"
   ]
  },
  {
   "cell_type": "code",
   "execution_count": 262,
   "metadata": {},
   "outputs": [
    {
     "name": "stdout",
     "output_type": "stream",
     "text": [
      "\n",
      " Final Result\n",
      "{'x': 0.0003879967884474027, 'y': 0.0012707194041828712} 0.03325755656678567\n"
     ]
    },
    {
     "data": {
      "text/plain": [
       "[<matplotlib.lines.Line2D at 0x2996f86bc48>]"
      ]
     },
     "execution_count": 262,
     "metadata": {},
     "output_type": "execute_result"
    },
    {
     "data": {
      "image/png": "[encoded data removed]",
      "text/plain": [
       "<Figure size 432x288 with 1 Axes>"
      ]
     },
     "metadata": {
      "needs_background": "light"
     },
     "output_type": "display_data"
    }
   ],
   "source": [
    "generations = 100\n",
    "kkt = True\n",
    "population = generate_population(size = 50, x_boundaries=(-5.12,5.12), y_boundaries=(-5.12,5.12))\n",
    "\n",
    "i = 1\n",
    "performance = []\n",
    "global_best_individual = sort_population_by_fitness(population)[0]\n",
    "\n",
    "while True:\n",
    "#    print(\"Generation {}\".format(i))\n",
    "#    for individual in population:\n",
    "#        print(individual)\n",
    "    current_generation = i\n",
    "    best_individual = sort_population_by_fitness(population)[0]\n",
    "    if apply_function(global_best_individual) > apply_function(best_individual):\n",
    "        global_best_individual = best_individual\n",
    "    \n",
    "#    print(\"\\n Best in Generation {}\".format(i))\n",
    "#    print(best_individual, apply_function(best_individual))\n",
    "    performance.append(apply_function(best_individual))\n",
    "    if i == generations:\n",
    "        break\n",
    "    i += 1\n",
    "    \n",
    "    population = make_next_generation(population, elite=True)\n",
    "    \n",
    "#best_individual = sort_population_by_fitness(population)[0]\n",
    "print(\"\\n Final Result\")\n",
    "print(global_best_individual, apply_function(global_best_individual))\n",
    "plt.plot(performance)\n",
    "plt.plot(np.ones(len(performance)) * apply_function(global_best_individual))"
   ]
  },
  {
   "cell_type": "code",
   "execution_count": 257,
   "metadata": {},
   "outputs": [
    {
     "name": "stdout",
     "output_type": "stream",
     "text": [
      "\n",
      " Final Result\n",
      "{'x': 0.0010984591567822083, 'y': 1.5401717390301634e-05} 0.00023942849280089717\n"
     ]
    },
    {
     "data": {
      "text/plain": [
       "[<matplotlib.lines.Line2D at 0x2996f5f7788>]"
      ]
     },
     "execution_count": 257,
     "metadata": {},
     "output_type": "execute_result"
    },
    {
     "data": {
      "image/png": "[encoded data removed]",
      "text/plain": [
       "<Figure size 432x288 with 1 Axes>"
      ]
     },
     "metadata": {
      "needs_background": "light"
     },
     "output_type": "display_data"
    }
   ],
   "source": [
    "generations = 100\n",
    "kkt = False\n",
    "population = generate_population(size = 50, x_boundaries=(-5.12,5.12), y_boundaries=(-5.12,5.12))\n",
    "\n",
    "i = 1\n",
    "performance = []\n",
    "global_best_individual = sort_population_by_fitness(population)[0]\n",
    "\n",
    "while True:\n",
    "#    print(\"Generation {}\".format(i))\n",
    "#    for individual in population:\n",
    "#        print(individual)\n",
    "    current_generation = i\n",
    "    best_individual = sort_population_by_fitness(population)[0]\n",
    "    if apply_function(global_best_individual) > apply_function(best_individual):\n",
    "        global_best_individual = best_individual\n",
    "    \n",
    "#    print(\"\\n Best in Generation {}\".format(i))\n",
    "#    print(best_individual, apply_function(best_individual))\n",
    "    performance.append(apply_function(best_individual))\n",
    "    if i == generations:\n",
    "        break\n",
    "    i += 1\n",
    "    \n",
    "    population = make_next_generation(population, elite=True)\n",
    "    \n",
    "#best_individual = sort_population_by_fitness(population)[0]\n",
    "print(\"\\n Final Result\")\n",
    "print(global_best_individual, apply_function(global_best_individual))\n",
    "plt.plot(performance)\n",
    "plt.plot(np.ones(len(performance)) * apply_function(global_best_individual))"
   ]
  },
  {
   "cell_type": "code",
   "execution_count": 224,
   "metadata": {},
   "outputs": [
    {
     "data": {
      "text/plain": [
       "{'x': 0.9948285950746218, 'y': -0.9951124561149969}"
      ]
     },
     "execution_count": 224,
     "metadata": {},
     "output_type": "execute_result"
    }
   ],
   "source": [
    "global_best_individual"
   ]
  },
  {
   "cell_type": "code",
   "execution_count": 3,
   "metadata": {},
   "outputs": [],
   "source": [
    "import random"
   ]
  },
  {
   "cell_type": "code",
   "execution_count": 98,
   "metadata": {},
   "outputs": [],
   "source": [
    "def BlendCrossover(individual1, individual2, alpha, **keywards):\n",
    "    '''\n",
    "    keywards can include: \n",
    "    upper: array\n",
    "    lower: array\n",
    "    '''    \n",
    "    \n",
    "    x_lower = individual1[\"x\"] - alpha * (individual2[\"x\"] - individual1[\"x\"])\n",
    "    x_upper = individual2[\"x\"] + alpha * (individual2[\"x\"] - individual1[\"x\"])\n",
    "    y_lower = individual1[\"y\"] - alpha * (individual2[\"y\"] - individual1[\"y\"])\n",
    "    y_upper = individual2[\"y\"] + alpha * (individual2[\"y\"] - individual1[\"y\"])\n",
    "    x_sample = random.random() * (x_upper - x_lower) + x_lower\n",
    "    y_sample = random.random() * (y_upper - y_lower) + y_lower\n",
    "    \n",
    "    for keys, values in keywards.items():\n",
    "        if keys == \"upper\":\n",
    "            if x_sample > values[0]:\n",
    "                x_sample = values[0]\n",
    "            elif y_sample > values[1]:\n",
    "                y_sample = values[1]\n",
    "        if keys == \"lower\":\n",
    "            if x_sample < values[0]:\n",
    "                x_sample = values[0]\n",
    "            elif y_sample < values[1]:\n",
    "                y_sample = values[1]            \n",
    "    \n",
    "    return {\"x\": x_sample, \n",
    "            \"y\": y_sample}"
   ]
  },
  {
   "cell_type": "code",
   "execution_count": 104,
   "metadata": {},
   "outputs": [],
   "source": [
    "def SimulatedBinaryCrossover(individual1, individual2, n, **keywards):\n",
    "    u = random.random()\n",
    "    if u < 0.5:\n",
    "        beta = ( 2 * u ) ** (1/(n+1))\n",
    "    else:\n",
    "        beta = (1 / (2*(1-u)))**(1/(n+1))\n",
    "        \n",
    "    xy1 = np.array([individual1.get('x'), individual1.get('y')])\n",
    "    xy2 = np.array([individual2.get('x'), individual2.get('y')])\n",
    "    offspring1 = (1+beta) * xy1 + (1-beta) * xy2\n",
    "    offspring1 = offspring1 * 0.5\n",
    "    offspring2 = (1-beta) * xy1 + (1+beta) * xy2\n",
    "    offspring2 = offspring2 * 0.5\n",
    "\n",
    "    for keys, values in keywards.items():\n",
    "        if keys == \"upper\":\n",
    "            if offspring1[0] > values[0]:\n",
    "                offspring1[0] = values[0]\n",
    "            \n",
    "            if offspring1[1] > values[1]:\n",
    "                offspring1[1] = values[1]\n",
    "\n",
    "            if offspring2[0] > values[0]:\n",
    "                offspring2[0] = values[0]\n",
    "\n",
    "            if offspring2[1] > values[1]:\n",
    "                offspring2[1] = values[1]\n",
    "                \n",
    "        if keys == \"lower\":\n",
    "            if offspring1[0] < values[0]:\n",
    "                offspring1[0] = values[0]\n",
    "            \n",
    "            if offspring1[1] < values[1]:\n",
    "                offspring1[1] = values[1]\n",
    "\n",
    "            if offspring2[0] < values[0]:\n",
    "                offspring2[0] = values[0]\n",
    "\n",
    "            if offspring2[1] < values[1]:\n",
    "                offspring2[1] = values[1]    \n",
    "    \n",
    "    dict_offspring1 = {'x': offspring1[0], 'y':offspring1[1]}\n",
    "    dict_offspring2 = {'x': offspring2[0], 'y':offspring2[1]}    \n",
    "    \n",
    "    return dict_offspring1, dict_offspring2"
   ]
  },
  {
   "cell_type": "code",
   "execution_count": 17,
   "metadata": {},
   "outputs": [],
   "source": [
    "population = generate_population(size = 2, x_boundaries=(-5.12,5.12), y_boundaries=(-5.12,5.12))"
   ]
  },
  {
   "cell_type": "code",
   "execution_count": 100,
   "metadata": {},
   "outputs": [],
   "source": [
    "kwargs= {\"lower\": [0,0], \"upper\": [3,3]}"
   ]
  },
  {
   "cell_type": "code",
   "execution_count": 103,
   "metadata": {},
   "outputs": [
    {
     "data": {
      "text/plain": [
       "{'x': 2.7297671288280183, 'y': 3}"
      ]
     },
     "execution_count": 103,
     "metadata": {},
     "output_type": "execute_result"
    }
   ],
   "source": [
    "BlendCrossover(population[0], population[1], 1, **kwargs)"
   ]
  },
  {
   "cell_type": "code",
   "execution_count": 83,
   "metadata": {},
   "outputs": [
    {
     "data": {
      "text/plain": [
       "{'x': 1.6949767089214194, 'y': 0.010873970615159934}"
      ]
     },
     "execution_count": 83,
     "metadata": {},
     "output_type": "execute_result"
    }
   ],
   "source": [
    "BlendCrossover(population[0], population[1], 0.5)"
   ]
  },
  {
   "cell_type": "code",
   "execution_count": 115,
   "metadata": {},
   "outputs": [
    {
     "data": {
      "text/plain": [
       "({'x': 1.0, 'y': 1.0}, {'x': 1.0, 'y': 1.0})"
      ]
     },
     "execution_count": 115,
     "metadata": {},
     "output_type": "execute_result"
    }
   ],
   "source": [
    "SimulatedBinaryCrossover(population[0], population[1], 0.5, lower = [0,0], upper = [1,1])"
   ]
  },
  {
   "cell_type": "code",
   "execution_count": 80,
   "metadata": {},
   "outputs": [
    {
     "data": {
      "text/plain": [
       "[('x', 2.255741968604399), ('y', 3.1854867849660122)]"
      ]
     },
     "execution_count": 80,
     "metadata": {},
     "output_type": "execute_result"
    }
   ],
   "source": [
    "list(population[0].items())"
   ]
  },
  {
   "cell_type": "code",
   "execution_count": 138,
   "metadata": {},
   "outputs": [],
   "source": [
    "def make_two_next_generation(previous_population):\n",
    "    next_generation = []\n",
    "    sorted_by_fitness_population = sort_population_by_fitness(previous_population)\n",
    "    population_size = len(previous_population)\n",
    "    fitness_sum = sum(apply_function(individual) for individual in previous_population)\n",
    "    \n",
    "    for i in range(population_size//2):\n",
    "        first_choice = choice_by_roulette(sorted_by_fitness_population)\n",
    "        second_choice = choice_by_roulette(sorted_by_fitness_population)\n",
    "        \n",
    "        individual1, individual2 = SimulatedBinaryCrossover(first_choice, second_choice, 5, lower = [-5.12, -5.12], upper=[5.12,5.12])\n",
    "        individual1 = mutate(individual1)\n",
    "        individual2 = mutate(individual2)\n",
    "        next_generation.append(individual1)\n",
    "        if len(next_generation) == population_size:\n",
    "            break\n",
    "        next_generation.append(individual2)\n",
    "                \n",
    "    return next_generation    "
   ]
  },
  {
   "cell_type": "code",
   "execution_count": 176,
   "metadata": {},
   "outputs": [
    {
     "name": "stdout",
     "output_type": "stream",
     "text": [
      "\n",
      " Final Result\n",
      "{'x': 0.0047393041844958905, 'y': 0.0032253235153394885} 0.006519503342321542\n"
     ]
    },
    {
     "data": {
      "text/plain": [
       "[<matplotlib.lines.Line2D at 0x2996c129648>]"
      ]
     },
     "execution_count": 176,
     "metadata": {},
     "output_type": "execute_result"
    },
    {
     "data": {
      "image/png": "[encoded data removed]",
      "text/plain": [
       "<Figure size 432x288 with 1 Axes>"
      ]
     },
     "metadata": {
      "needs_background": "light"
     },
     "output_type": "display_data"
    }
   ],
   "source": [
    "generations = 500\n",
    "\n",
    "population = generate_population(size = 60, x_boundaries=(-5.12,5.12), y_boundaries=(-5.12,5.12))\n",
    "\n",
    "i = 1\n",
    "performance = []\n",
    "global_best_individual = sort_population_by_fitness(population)[0]\n",
    "\n",
    "while True:\n",
    "#    print(\"Generation {}\".format(i))\n",
    "#    for individual in population:\n",
    "#        print(individual)\n",
    "    current_generation = i\n",
    "    best_individual = sort_population_by_fitness(population)[0]\n",
    "    if apply_function(global_best_individual) > apply_function(best_individual):\n",
    "        global_best_individual = best_individual\n",
    "    \n",
    "#    print(\"\\n Best in Generation {}\".format(i))\n",
    "#    print(best_individual, apply_function(best_individual))\n",
    "    performance.append(apply_function(best_individual))\n",
    "    if i == generations:\n",
    "        break\n",
    "    i += 1\n",
    "    \n",
    "    population = make_two_next_generation(population)\n",
    "    \n",
    "#best_individual = sort_population_by_fitness(population)[0]\n",
    "print(\"\\n Final Result\")\n",
    "print(global_best_individual, apply_function(global_best_individual))\n",
    "plt.plot(performance)\n",
    "plt.plot(np.ones(len(performance)) * apply_function(global_best_individual))"
   ]
  },
  {
   "cell_type": "code",
   "execution_count": 198,
   "metadata": {},
   "outputs": [
    {
     "name": "stdout",
     "output_type": "stream",
     "text": [
      "\n",
      " Final Result\n",
      "{'x': 2.986604740542235, 'y': -0.9958945864762102} 63.07187929437986\n"
     ]
    },
    {
     "data": {
      "text/plain": [
       "[<matplotlib.lines.Line2D at 0x2996c6ff508>]"
      ]
     },
     "execution_count": 198,
     "metadata": {},
     "output_type": "execute_result"
    },
    {
     "data": {
      "image/png": "[encoded data removed]",
      "text/plain": [
       "<Figure size 432x288 with 1 Axes>"
      ]
     },
     "metadata": {
      "needs_background": "light"
     },
     "output_type": "display_data"
    }
   ],
   "source": [
    "generations = 500\n",
    "\n",
    "population = generate_population(size = 60, x_boundaries=(-5.12,5.12), y_boundaries=(-5.12,5.12))\n",
    "\n",
    "i = 1\n",
    "performance = []\n",
    "global_best_individual = sort_population_by_fitness(population)[0]\n",
    "\n",
    "while True:\n",
    "#    print(\"Generation {}\".format(i))\n",
    "#    for individual in population:\n",
    "#        print(individual)\n",
    "    current_generation = i\n",
    "    best_individual = sort_population_by_fitness(population)[0]\n",
    "    if apply_function(global_best_individual) > apply_function(best_individual):\n",
    "        global_best_individual = best_individual\n",
    "    \n",
    "#    print(\"\\n Best in Generation {}\".format(i))\n",
    "#    print(best_individual, apply_function(best_individual))\n",
    "    performance.append(apply_function(best_individual))\n",
    "    if i == generations:\n",
    "        break\n",
    "    i += 1\n",
    "    \n",
    "    population = make_two_next_generation(population)\n",
    "    \n",
    "#best_individual = sort_population_by_fitness(population)[0]\n",
    "print(\"\\n Final Result\")\n",
    "print(global_best_individual, apply_function(global_best_individual))\n",
    "plt.plot(performance)\n",
    "plt.plot(np.ones(len(performance)) * apply_function(global_best_individual))"
   ]
  },
  {
   "cell_type": "markdown",
   "metadata": {},
   "source": [
    "# DE Algorithm "
   ]
  },
  {
   "cell_type": "code",
   "execution_count": 273,
   "metadata": {},
   "outputs": [],
   "source": [
    "# Auxiliary function to make array from dictionary\n",
    "def dict_to_valuearray(dictionary):\n",
    "    values = np.array(list(dictionary.values()))\n",
    "    return values       "
   ]
  },
  {
   "cell_type": "code",
   "execution_count": 274,
   "metadata": {},
   "outputs": [
    {
     "data": {
      "text/plain": [
       "array([3, 4])"
      ]
     },
     "execution_count": 274,
     "metadata": {},
     "output_type": "execute_result"
    }
   ],
   "source": [
    "a = {'x':3, 'y':4}\n",
    "\n",
    "dict_to_valuearray(a)"
   ]
  },
  {
   "cell_type": "code",
   "execution_count": 430,
   "metadata": {},
   "outputs": [
    {
     "data": {
      "text/plain": [
       "[0, 1, 3]"
      ]
     },
     "execution_count": 430,
     "metadata": {},
     "output_type": "execute_result"
    }
   ],
   "source": [
    "random.sample([0,1,2,3],3)"
   ]
  },
  {
   "cell_type": "code",
   "execution_count": 431,
   "metadata": {},
   "outputs": [],
   "source": [
    "def testfunction(a):\n",
    "    return a * 10"
   ]
  },
  {
   "cell_type": "code",
   "execution_count": 439,
   "metadata": {},
   "outputs": [
    {
     "name": "stdout",
     "output_type": "stream",
     "text": [
      "3\n"
     ]
    }
   ],
   "source": [
    "aaa = [0,1,2,3]\n",
    "bbb = list(map(testfunction, aaa))\n",
    "\n",
    "max_value = max(bbb)\n",
    "max_index = bbb.index(max_value)\n",
    "print(max_index)\n",
    "#print(ccc)"
   ]
  },
  {
   "cell_type": "code",
   "execution_count": 483,
   "metadata": {},
   "outputs": [],
   "source": [
    "# Initial Population generation\n",
    "# NP population, D-dimension\n",
    "\n",
    "# Mutation_DE\n",
    "def mutation_DE(population, F = 1, best = False):\n",
    "# one generation of mutation\n",
    "    mutant_population = []\n",
    "    # if best is true, pick the best vector\n",
    "    if best:\n",
    "        fitness_value = list(map(apply_function_general, population))\n",
    "        max_value = max(fitness_value)\n",
    "        max_index = fitness_value.index(max_value)\n",
    "    # pick 3 random indexes for r1,r2,r3\n",
    "    for i in range(len(population)):\n",
    "        if best:\n",
    "            r1_index = max_index\n",
    "        else:\n",
    "            r1_index = random.randint(0,len(population)-1)            \n",
    "        while True:\n",
    "            r2_index = random.randint(0,len(population)-1)\n",
    "            if r2_index != r1_index:\n",
    "                break\n",
    "        while True:\n",
    "            r3_index = random.randint(0, len(population)-1)\n",
    "            if r3_index != r1_index and r3_index != r2_index:\n",
    "                break\n",
    "        # retrive their vector \n",
    "        r1_array = dict_to_valuearray(population[r1_index])\n",
    "        r2_array = dict_to_valuearray(population[r2_index])\n",
    "        r3_array = dict_to_valuearray(population[r3_index])\n",
    "\n",
    "        # apply mutation \n",
    "        mutant = r1_array + F * (r2_array - r3_array)\n",
    "        # convert to dictionary\n",
    "        mutant_dic = {}\n",
    "        for k, v in zip(population[r1_index].keys(), mutant):\n",
    "            mutant_dic[k] = v\n",
    "        # append to the list\n",
    "        mutant_population.append(mutant_dic)\n",
    "    return mutant_population    \n",
    "        \n",
    "# Crossover_DE\n",
    "def crossover_DE(population, mutant_population, CR=0.01):\n",
    "    new_population = []\n",
    "    for i in range(len(population)):\n",
    "        pop = population[i] # original population\n",
    "        mut = mutant_population[i] # mutanted population\n",
    "        # pick at least one dimension to change with mutant value\n",
    "        random_dimension = random.sample(list(population[0].keys()),1)[0] \n",
    "        new_pop_dict = {}\n",
    "        for j in pop.keys():\n",
    "            random_value = random.random()\n",
    "            # if random value is less than crossover constant, adopt mutant value\n",
    "            if random_value <= CR:\n",
    "                new_pop_dict[j] = mut[j]\n",
    "            # if index is the one that should be changed,\n",
    "            elif j == random_dimension:\n",
    "                new_pop_dict[j] = mut[j]\n",
    "            # if nothing applies, select the original vector\n",
    "            else:\n",
    "                new_pop_dict[j] = pop[j]\n",
    "        new_population.append(new_pop_dict)\n",
    "    return new_population\n",
    "\n",
    "# Selection\n",
    "def selection_DE(population, trial):\n",
    "    new_population = []\n",
    "    for i in range(len(population)):\n",
    "        # if fitness value is higher in trial vector, use that vector\n",
    "        if apply_function_general(population[i]) > apply_function_general(trial[i]):\n",
    "            new_population.append(trial[i])\n",
    "        else:\n",
    "            new_population.append(population[i])\n",
    "    return new_population"
   ]
  },
  {
   "cell_type": "code",
   "execution_count": 450,
   "metadata": {},
   "outputs": [
    {
     "name": "stdout",
     "output_type": "stream",
     "text": [
      "\n",
      " Final Result\n",
      "{'x': 2.518125130634985e-08, 'y': -3.406011472861792e-08} 3.552713678800501e-13\n"
     ]
    },
    {
     "data": {
      "text/plain": [
       "[<matplotlib.lines.Line2D at 0x29972a0f988>]"
      ]
     },
     "execution_count": 450,
     "metadata": {},
     "output_type": "execute_result"
    },
    {
     "data": {
      "image/png": "[encoded data removed]",
      "text/plain": [
       "<Figure size 432x288 with 1 Axes>"
      ]
     },
     "metadata": {
      "needs_background": "light"
     },
     "output_type": "display_data"
    }
   ],
   "source": [
    "generations = 100\n",
    "kkt= False\n",
    "\n",
    "population = generate_population(size = 30, x_boundaries=(-5.12,5.12), y_boundaries=(-5.12,5.12))\n",
    "\n",
    "i = 1\n",
    "performance = []\n",
    "global_best_individual = sort_population_by_fitness(population)[0]\n",
    "\n",
    "while True:\n",
    "#    print(\"Generation {}\".format(i))\n",
    "#    for individual in population:\n",
    "#        print(individual)\n",
    "    current_generation = i\n",
    "    best_individual = sort_population_by_fitness(population)[0]\n",
    "    if apply_function(global_best_individual) > apply_function(best_individual):\n",
    "        global_best_individual = best_individual\n",
    "    \n",
    "#    print(\"\\n Best in Generation {}\".format(i))\n",
    "#    print(best_individual, apply_function(best_individual))\n",
    "    performance.append(apply_function(best_individual))\n",
    "    if i == generations:\n",
    "        break\n",
    "    i += 1\n",
    "    \n",
    "#    mutant = mutation_DE(population, best = True) # to use best vector as a base for search vector \n",
    "    mutant = mutation_DE(population, best = False)\n",
    "    trial = crossover_DE(population, mutant)\n",
    "    population = selection_DE(population, trial)\n",
    "    \n",
    "#best_individual = sort_population_by_fitness(population)[0]\n",
    "print(\"\\n Final Result\")\n",
    "print(global_best_individual, apply_function(global_best_individual))\n",
    "plt.plot(performance)\n",
    "plt.plot(np.ones(len(performance)) * apply_function(global_best_individual))"
   ]
  },
  {
   "cell_type": "markdown",
   "metadata": {},
   "source": [
    "It is very interesting that DE works extremely well even without any bounds on the variables (no cut off is applied)."
   ]
  },
  {
   "cell_type": "code",
   "execution_count": 451,
   "metadata": {},
   "outputs": [
    {
     "data": {
      "text/plain": [
       "[{'x': 5.517623709039299e-07, 'y': 6.166356314452059e-10},\n",
       " {'x': -1.4886217591936202e-08, 'y': 8.527080632703132e-07},\n",
       " {'x': 8.852393484914955e-08, 'y': -4.517277796267649e-07},\n",
       " {'x': 5.457537799458123e-08, 'y': -6.405311880897102e-08},\n",
       " {'x': -1.426801543580325e-07, 'y': -3.432000181824435e-07},\n",
       " {'x': 5.685027915092178e-08, 'y': 4.511474911872426e-06},\n",
       " {'x': 2.518125130634985e-08, 'y': -3.406011472861792e-08},\n",
       " {'x': 2.0493871932814045e-08, 'y': 1.3495989064082892e-06},\n",
       " {'x': -2.4518556607233677e-07, 'y': -9.224278065822489e-07},\n",
       " {'x': -1.3143903210277585e-07, 'y': 5.877664044362518e-08},\n",
       " {'x': 2.786867101534085e-07, 'y': 6.576122224544179e-08},\n",
       " {'x': 3.4660960679389063e-07, 'y': -2.1338613365173842e-07},\n",
       " {'x': 8.612980417765925e-08, 'y': -9.47542310836269e-07},\n",
       " {'x': 5.330621455357232e-08, 'y': 2.667739131823055e-07},\n",
       " {'x': -1.4159672545588364e-08, 'y': 4.452836206425559e-07},\n",
       " {'x': 5.8004840930436785e-08, 'y': 2.6273881648108954e-07},\n",
       " {'x': -1.348684950386314e-07, 'y': -2.9376368448907897e-08},\n",
       " {'x': 8.913091851248112e-07, 'y': -1.487163792113222e-07},\n",
       " {'x': -1.3806581566910836e-07, 'y': 2.5416657658539066e-06},\n",
       " {'x': 2.7501878818725345e-07, 'y': 3.3629537332657833e-07},\n",
       " {'x': 2.0774316222826883e-07, 'y': -7.338860052996665e-08},\n",
       " {'x': -3.1938370392836646e-07, 'y': 9.561786473710754e-09},\n",
       " {'x': -1.0651138948603034e-07, 'y': 8.750302074034266e-07},\n",
       " {'x': -3.989050512132053e-08, 'y': -2.1240454195492475e-07},\n",
       " {'x': 1.8771742205103692e-07, 'y': 5.973412422477509e-07},\n",
       " {'x': -2.6873262060078673e-07, 'y': -1.8960559877712058e-07},\n",
       " {'x': -4.4746805016870894e-07, 'y': 3.025570243231357e-07},\n",
       " {'x': -4.9199197160731956e-08, 'y': -7.843030656040639e-07},\n",
       " {'x': -4.479183690619948e-09, 'y': -3.478837644621535e-07},\n",
       " {'x': 5.4456148479431477e-08, 'y': -9.92047013426145e-08}]"
      ]
     },
     "execution_count": 451,
     "metadata": {},
     "output_type": "execute_result"
    }
   ],
   "source": [
    "population"
   ]
  },
  {
   "cell_type": "code",
   "execution_count": 460,
   "metadata": {},
   "outputs": [],
   "source": [
    "def generate_population_general(size, dimension, upper, lower):\n",
    "    \n",
    "    population = []\n",
    "    for i in range(size):\n",
    "        individual= {}\n",
    "        for j in range(dimension):\n",
    "            dictkey = 'x' + str(j)\n",
    "            individual[dictkey] = random.uniform(lower, upper)\n",
    "        population.append(individual)\n",
    "        \n",
    "    return population"
   ]
  },
  {
   "cell_type": "code",
   "execution_count": 462,
   "metadata": {},
   "outputs": [
    {
     "data": {
      "text/plain": [
       "[{'x0': -2.0657510124643066, 'x1': -3.2105642142765927},\n",
       " {'x0': -0.6648176172193656, 'x1': -1.2254248640808774},\n",
       " {'x0': 1.6437055615815632, 'x1': -0.38325597773709674}]"
      ]
     },
     "execution_count": 462,
     "metadata": {},
     "output_type": "execute_result"
    }
   ],
   "source": [
    "generate_population_general(3,2,-5,5)"
   ]
  },
  {
   "cell_type": "code",
   "execution_count": 500,
   "metadata": {},
   "outputs": [],
   "source": [
    "import math\n",
    "\n",
    "def apply_function_general(individual, verbose = False):\n",
    "#    function_value = 20 + x ** 2 + y **2 - 10 * (math.cos(2 * math.pi * x) + math.cos(2 * math.pi * y))\n",
    "    function_value = 10 * len(individual.values())+ sum(x ** 4 for x in individual.values()) - 10 * (sum(math.cos(2*math.pi*x) for x in individual.values()))\n",
    "    return function_value\n"
   ]
  },
  {
   "cell_type": "code",
   "execution_count": 479,
   "metadata": {},
   "outputs": [],
   "source": [
    "def sort_population_by_fitness(population):\n",
    "    return sorted(population, key = apply_function_general)"
   ]
  },
  {
   "cell_type": "code",
   "execution_count": 475,
   "metadata": {},
   "outputs": [
    {
     "data": {
      "text/plain": [
       "32.51920889446865"
      ]
     },
     "execution_count": 475,
     "metadata": {},
     "output_type": "execute_result"
    }
   ],
   "source": [
    "popp = generate_population_general(3,2,-5,5)\n",
    "apply_function_general(popp[2])"
   ]
  },
  {
   "cell_type": "code",
   "execution_count": 501,
   "metadata": {},
   "outputs": [
    {
     "name": "stdout",
     "output_type": "stream",
     "text": [
      "\n",
      " Final Result\n",
      "0.0001516137998009981\n"
     ]
    },
    {
     "data": {
      "text/plain": [
       "[<matplotlib.lines.Line2D at 0x2997422ee48>]"
      ]
     },
     "execution_count": 501,
     "metadata": {},
     "output_type": "execute_result"
    },
    {
     "data": {
      "image/png": "[encoded data removed]",
      "text/plain": [
       "<Figure size 432x288 with 1 Axes>"
      ]
     },
     "metadata": {
      "needs_background": "light"
     },
     "output_type": "display_data"
    }
   ],
   "source": [
    "generations = 1000\n",
    "kkt= False\n",
    "\n",
    "population = generate_population_general(size = 30, dimension=30, upper=5.12, lower=-5.12)\n",
    "\n",
    "i = 1\n",
    "performance = []\n",
    "global_best_individual = sort_population_by_fitness(population)[0]\n",
    "\n",
    "while True:\n",
    "#    print(\"Generation {}\".format(i))\n",
    "#    for individual in population:\n",
    "#        print(individual)\n",
    "    current_generation = i\n",
    "    best_individual = sort_population_by_fitness(population)[0]\n",
    "    if apply_function_general(global_best_individual) > apply_function_general(best_individual):\n",
    "        global_best_individual = best_individual\n",
    "    \n",
    "#    print(\"\\n Best in Generation {}\".format(i))\n",
    "#    print(best_individual, apply_function(best_individual))\n",
    "    performance.append(apply_function_general(best_individual))\n",
    "    if i == generations:\n",
    "        break\n",
    "    i += 1\n",
    "    \n",
    "#    mutant = mutation_DE(population, best = True) # to use best vector as a base for search vector \n",
    "    mutant = mutation_DE(population, best = False)\n",
    "    trial = crossover_DE(population, mutant)\n",
    "    population = selection_DE(population, trial)\n",
    "    \n",
    "#best_individual = sort_population_by_fitness(population)[0]\n",
    "print(\"\\n Final Result\")\n",
    "#print(global_best_individual)\n",
    "print(apply_function_general(global_best_individual))\n",
    "plt.plot(performance)\n",
    "plt.plot(np.ones(len(performance)) * apply_function_general(global_best_individual))"
   ]
  },
  {
   "cell_type": "code",
   "execution_count": null,
   "metadata": {},
   "outputs": [],
   "source": []
  }
 ],
 "metadata": {
  "kernelspec": {
   "display_name": "Python 3",
   "language": "python",
   "name": "python3"
  },
  "language_info": {
   "codemirror_mode": {
    "name": "ipython",
    "version": 3
   },
   "file_extension": ".py",
   "mimetype": "text/x-python",
   "name": "python",
   "nbconvert_exporter": "python",
   "pygments_lexer": "ipython3",
   "version": "3.7.10"
  }
 },
 "nbformat": 4,
 "nbformat_minor": 2
}
