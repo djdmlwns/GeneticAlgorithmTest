{
 "cells": [
  {
   "cell_type": "code",
   "execution_count": 1,
   "metadata": {},
   "outputs": [],
   "source": [
    "import numpy as np\n",
    "import pandas as pd"
   ]
  },
  {
   "cell_type": "code",
   "execution_count": 2,
   "metadata": {},
   "outputs": [],
   "source": [
    "import random"
   ]
  },
  {
   "cell_type": "code",
   "execution_count": 3,
   "metadata": {},
   "outputs": [],
   "source": [
    "def generate_population(size, x_boundaries, y_boundaries):\n",
    "    lower_x_boundary, upper_x_boundary = x_boundaries\n",
    "    lower_y_boundary, upper_y_boundary = y_boundaries\n",
    "    \n",
    "    population = []\n",
    "    for i in range(size):\n",
    "        individual = {\n",
    "            \"x\" : random.uniform(lower_x_boundary, upper_x_boundary),\n",
    "            \"y\" : random.uniform(lower_y_boundary, upper_y_boundary),\n",
    "        }\n",
    "        population.append(individual)\n",
    "        \n",
    "    return population"
   ]
  },
  {
   "cell_type": "code",
   "execution_count": 32,
   "metadata": {},
   "outputs": [],
   "source": [
    "import math\n",
    "\n",
    "def apply_function(individual):\n",
    "    x = individual[\"x\"]\n",
    "    y = individual[\"y\"]\n",
    "#    print(20 + x ** 2 + y **2 - 10 * (math.cos(2 * math.pi * x) + math.cos(2 * math.pi * y)))\n",
    "    return 20 + x ** 2 + y **2 - 10 * (math.cos(2 * math.pi * x) + math.cos(2 * math.pi * y))\n"
   ]
  },
  {
   "cell_type": "code",
   "execution_count": 12,
   "metadata": {},
   "outputs": [],
   "source": [
    "def sort_population_by_fitness(population):\n",
    "    return sorted(population, key = apply_function)"
   ]
  },
  {
   "cell_type": "code",
   "execution_count": 89,
   "metadata": {},
   "outputs": [],
   "source": [
    "def crossover(individual_a, individual_b):\n",
    "    xa = individual_a[\"x\"]\n",
    "    ya = individual_a[\"y\"]\n",
    "    \n",
    "    xb = individual_b[\"x\"]\n",
    "    yb = individual_b[\"y\"]\n",
    "    \n",
    "    return {\"x\": (xa+xb)/2, \"y\": (ya+yb)/2}\n",
    "def mutate(individual):\n",
    "    global current_generation\n",
    "    next_x = individual[\"x\"] + random.uniform(-0.05, 0.05)/(current_generation//10+1)\n",
    "    next_y = individual[\"y\"] + random.uniform(-0.05, 0.05)/(current_generation//10+1)\n",
    "    \n",
    "    lower_boundary, upper_boundary = (-5.12, 5.12)\n",
    "    \n",
    "    next_x = min(max(next_x, lower_boundary), upper_boundary)\n",
    "    next_y = min(max(next_y, lower_boundary), upper_boundary)\n",
    "    \n",
    "    return {\"x\": next_x, \"y\": next_y}"
   ]
  },
  {
   "cell_type": "code",
   "execution_count": 65,
   "metadata": {},
   "outputs": [],
   "source": [
    "def make_next_generation(previous_population):\n",
    "    next_generation = []\n",
    "    sorted_by_fitness_population = sort_population_by_fitness(previous_population)\n",
    "    population_size = len(previous_population)\n",
    "    fitness_sum = sum(apply_function(individual) for individual in previous_population)\n",
    "    \n",
    "    for i in range(population_size):\n",
    "        first_choice = choice_by_roulette(sorted_by_fitness_population)\n",
    "        second_choice = choice_by_roulette(sorted_by_fitness_population)\n",
    "        \n",
    "        individual = crossover(first_choice, second_choice)\n",
    "        individual = mutate(individual)\n",
    "        next_generation.append(individual)\n",
    "        \n",
    "    return next_generation    "
   ]
  },
  {
   "cell_type": "code",
   "execution_count": 78,
   "metadata": {},
   "outputs": [],
   "source": [
    "def choice_by_roulette(sorted_population):\n",
    "#    offset = 0\n",
    "#    normalized_fitness_sum = fitness_sum\n",
    "    \n",
    "#    lowest_fitness = apply_function(sorted_population[0])\n",
    "#    if lowest_fitness < 0:\n",
    "#        offset = -lowest_fitness\n",
    "#        normalized_fitness_sum += offset * len(sorted_population)\n",
    "    conversion = lambda x: math.exp(-x/10)\n",
    "    logistic_value = list(conversion(apply_function(i)) for i in sorted_population)\n",
    "    logistic_sum = sum(i for i in logistic_value)\n",
    "#    print(logistic_sum)\n",
    "    draw = random.uniform(0,1)\n",
    "    accumulated = 0\n",
    "    for individual in sorted_population:\n",
    "        fitness = conversion(apply_function(individual))\n",
    "        probability = fitness / logistic_sum\n",
    "        accumulated += probability\n",
    "        \n",
    "        if draw <= accumulated:\n",
    "            return individual\n",
    "        "
   ]
  },
  {
   "cell_type": "code",
   "execution_count": 34,
   "metadata": {},
   "outputs": [],
   "source": [
    "import matplotlib.pyplot as plt"
   ]
  },
  {
   "cell_type": "code",
   "execution_count": 98,
   "metadata": {},
   "outputs": [
    {
     "name": "stdout",
     "output_type": "stream",
     "text": [
      "\n",
      " Final Result\n",
      "{'x': -0.9594822577589255, 'y': 0.04789140363849755} 1.6945394396243145\n"
     ]
    },
    {
     "data": {
      "text/plain": [
       "[<matplotlib.lines.Line2D at 0x2519a1b2518>]"
      ]
     },
     "execution_count": 98,
     "metadata": {},
     "output_type": "execute_result"
    },
    {
     "data": {
      "image/png": "[encoded data removed]",
      "text/plain": [
       "<Figure size 432x288 with 1 Axes>"
      ]
     },
     "metadata": {
      "needs_background": "light"
     },
     "output_type": "display_data"
    }
   ],
   "source": [
    "generations = 100\n",
    "\n",
    "population = generate_population(size = 10, x_boundaries=(-5.12,5.12), y_boundaries=(-5.12,5.12))\n",
    "\n",
    "i = 1\n",
    "performance = []\n",
    "\n",
    "while True:\n",
    "#    print(\"Generation {}\".format(i))\n",
    "#    for individual in population:\n",
    "#        print(individual)\n",
    "    current_generation = i\n",
    "    best_individual = sort_population_by_fitness(population)[0]\n",
    "#    print(\"\\n Best in Generation {}\".format(i))\n",
    "#    print(best_individual, apply_function(best_individual))\n",
    "    performance.append(apply_function(best_individual))\n",
    "    if i == generations:\n",
    "        break\n",
    "    i += 1\n",
    "    \n",
    "    population = make_next_generation(population)\n",
    "    \n",
    "best_individual = sort_population_by_fitness(population)[0]\n",
    "print(\"\\n Final Result\")\n",
    "print(best_individual, apply_function(best_individual))\n",
    "plt.plot(performance)    "
   ]
  },
  {
   "cell_type": "code",
   "execution_count": null,
   "metadata": {},
   "outputs": [],
   "source": []
  }
 ],
 "metadata": {
  "kernelspec": {
   "display_name": "Python 3",
   "language": "python",
   "name": "python3"
  },
  "language_info": {
   "codemirror_mode": {
    "name": "ipython",
    "version": 3
   },
   "file_extension": ".py",
   "mimetype": "text/x-python",
   "name": "python",
   "nbconvert_exporter": "python",
   "pygments_lexer": "ipython3",
   "version": "3.7.3"
  }
 },
 "nbformat": 4,
 "nbformat_minor": 2
}
