{
 "cells": [
  {
   "cell_type": "code",
   "execution_count": 8,
   "id": "32d83ad7",
   "metadata": {},
   "outputs": [],
   "source": [
    "import numpy as np\n",
    "import matplotlib.pyplot as plt\n",
    "import matplotlib as mpl\n",
    "\n",
    "class NQueensProblem:\n",
    "    \"\"\"This class encapsulates the N-Queens problem\n",
    "    \"\"\"\n",
    "\n",
    "    def __init__(self, numOfQueens):\n",
    "        \"\"\"\n",
    "        :param numOfQueens: the number of queens in the problem\n",
    "        \"\"\"\n",
    "        self.numOfQueens = numOfQueens\n",
    "\n",
    "    def __len__(self):\n",
    "        \"\"\"\n",
    "        :return: the number of queens\n",
    "        \"\"\"\n",
    "        return self.numOfQueens\n",
    "\n",
    "    def getViolationsCount(self, positions):\n",
    "        \"\"\"\n",
    "        Calculates the number of violations in the given solution\n",
    "        Since the input contains unique indices of columns for each row, no row or column violations are possible,\n",
    "        Only the diagonal violations need to be counted.\n",
    "        :param positions: a list of indices corresponding to the positions of the queens in each row\n",
    "        :return: the calculated value\n",
    "        \"\"\"\n",
    "\n",
    "        if len(positions) != self.numOfQueens:\n",
    "            raise ValueError(\"size of positions list should be equal to \", self.numOfQueens)\n",
    "\n",
    "        violations = 0\n",
    "\n",
    "        # iterate over every pair of queens and find if they are on the same diagonal:\n",
    "        for i in range(len(positions)):\n",
    "            for j in range(i + 1, len(positions)):\n",
    "\n",
    "                # first queen in pair:\n",
    "                column1 = i\n",
    "                row1 = positions[i]\n",
    "\n",
    "                # second queen in pair:\n",
    "                column2 = j\n",
    "                row2 = positions[j]\n",
    "\n",
    "                # look for diagonal threat for th ecurrent pair:\n",
    "                if abs(column1 - column2) == abs(row1 - row2):\n",
    "                    violations += 1\n",
    "\n",
    "        return violations\n",
    "\n",
    "    def plotBoard(self, positions):\n",
    "        \"\"\"\n",
    "        Plots the positions of the queens on the board according to the given solution\n",
    "        :param positions: a list of indices corresponding to the positions of the queens in each row.\n",
    "        \"\"\"\n",
    "\n",
    "        if len(positions) != self.numOfQueens:\n",
    "            raise ValueError(\"size of positions list should be equal to \", self.numOfQueens)\n",
    "\n",
    "        fig, ax = plt.subplots()\n",
    "\n",
    "        # start with the board's squares:\n",
    "        board = np.zeros((self.numOfQueens, self.numOfQueens))\n",
    "        # change color of every other square:\n",
    "        board[::2, 1::2] = 1\n",
    "        board[1::2, ::2] = 1\n",
    "\n",
    "        # draw the squares with two different colors:\n",
    "        ax.imshow(board, interpolation='none', cmap=mpl.colors.ListedColormap(['#ffc794', '#4c2f27']))\n",
    "\n",
    "        # read the queen image thumbnail and give it a spread of 70% of the square dimensions:\n",
    "        queenThumbnail = plt.imread('queen-thumbnail.png')\n",
    "        thumbnailSpread = 0.70 * np.array([-1, 1, -1, 1]) / 2  # spread is [left, right, bottom, top]\n",
    "\n",
    "        # iterate over the queen positions - i is the row, j is the column:\n",
    "        for i, j in enumerate(positions):\n",
    "            # place the thumbnail on the matching square:\n",
    "            ax.imshow(queenThumbnail, extent=[j, j, i, i] + thumbnailSpread)\n",
    "\n",
    "        # show the row and column indexes:\n",
    "        ax.set(xticks=list(range(self.numOfQueens)), yticks=list(range(self.numOfQueens)))\n",
    "\n",
    "        ax.axis('image')   # scale the plot as square-shaped\n",
    "\n",
    "        return plt\n",
    "\n",
    "\n",
    "    # testing the class:\n",
    "    def main(self):\n",
    "        # create a problem instance:\n",
    "        nQueens = NQueensProblem(8)\n",
    "\n",
    "        # a known good solution:\n",
    "        #solution = [5, 0, 4, 1, 7, 2, 6, 3]\n",
    "\n",
    "        # a solution with 3 violations:\n",
    "        solution = [1, 2, 7, 5, 0, 3, 4, 6]\n",
    "\n",
    "        print(\"Number of violations = \", nQueens.getViolationsCount(solution))\n",
    "\n",
    "        plot = nQueens.plotBoard(solution)\n",
    "        plot.show()\n"
   ]
  },
  {
   "cell_type": "code",
   "execution_count": 9,
   "id": "39e4c3b9",
   "metadata": {},
   "outputs": [],
   "source": [
    "nQueens = NQueensProblem(8)"
   ]
  },
  {
   "cell_type": "code",
   "execution_count": 11,
   "id": "928e6c89",
   "metadata": {},
   "outputs": [
    {
     "name": "stdout",
     "output_type": "stream",
     "text": [
      "Number of violations =  3\n"
     ]
    },
    {
     "data": {
      "image/png": "[encoded data removed]",
      "text/plain": [
       "<Figure size 432x288 with 1 Axes>"
      ]
     },
     "metadata": {
      "needs_background": "light"
     },
     "output_type": "display_data"
    }
   ],
   "source": [
    "nQueens.main()"
   ]
  },
  {
   "cell_type": "code",
   "execution_count": null,
   "id": "b9b855bd",
   "metadata": {},
   "outputs": [],
   "source": []
  }
 ],
 "metadata": {
  "kernelspec": {
   "display_name": "Python 3",
   "language": "python",
   "name": "python3"
  },
  "language_info": {
   "codemirror_mode": {
    "name": "ipython",
    "version": 3
   },
   "file_extension": ".py",
   "mimetype": "text/x-python",
   "name": "python",
   "nbconvert_exporter": "python",
   "pygments_lexer": "ipython3",
   "version": "3.7.10"
  }
 },
 "nbformat": 4,
 "nbformat_minor": 5
}
